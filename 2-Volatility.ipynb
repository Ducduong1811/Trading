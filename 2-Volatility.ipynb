{
 "cells": [
  {
   "attachments": {},
   "cell_type": "markdown",
   "metadata": {},
   "source": [
    "## TOC\n",
    "1. **LB1**: Import libraries\n",
    "- **Future Value of Investment**\n",
    "2. **IP1**: Import data from Yahoo Finance \n",
    "3. **IP2**: Calculate Log return, remove unused columns\n",
    "4. **IP3**: Calculate Future Value of each index\n",
    "- **Volatility 1: High - Low**\n",
    "5. **VL1**: Calculate simple volatility in dataset with max - min\n",
    "6. **VL2**: Calculate simple volatility in the latest data points with max - min\n",
    "7. **VL3**: Standardize volatility by dividing the most current price\n",
    "- **Volatility 2: with Moving Averages (Rolling Distance)**\n",
    "8. **MA1**: Set rolling average, then plot it\n",
    "9. **MA2**: Calculate Rolling Distance\n",
    "- **Volatility 3: Standard Deviation**\n",
    "10. **SD1**: Calculate Volatility with Standard Deviation\n",
    "- **Volatility 4: Comparison Function for different tickers**\n",
    "11. **CF1**: Comparison Function "
   ]
  },
  {
   "cell_type": "code",
   "execution_count": 3,
   "metadata": {},
   "outputs": [],
   "source": [
    "# LB1\n",
    "import datetime\n",
    "from datetime import date\n",
    "\n",
    "import numpy as np\n",
    "import pandas as pd\n",
    "import pandas_datareader.data as web\n",
    "import seaborn as sns\n",
    "import yfinance as yfin\n",
    "from matplotlib import pyplot as plt\n",
    "\n",
    "pd.options.display.float_format = \"{:,.3f}\".format\n",
    "yfin.pdr_override()"
   ]
  },
  {
   "attachments": {},
   "cell_type": "markdown",
   "metadata": {},
   "source": [
    "## Future Value of Investment"
   ]
  },
  {
   "cell_type": "code",
   "execution_count": 4,
   "metadata": {},
   "outputs": [
    {
     "name": "stdout",
     "output_type": "stream",
     "text": [
      "[*********************100%***********************]  2 of 2 completed\n"
     ]
    }
   ],
   "source": [
    "# IP1\n",
    "start = datetime.date.today()-datetime.timedelta(365)\n",
    "end = datetime.date.today()\n",
    "\n",
    "ticker_list = [\"^GSPC\", \"^RUT\"]\n",
    "\n",
    "prices = web.DataReader(ticker_list, start, end)[\"Adj Close\"]\n",
    "\n",
    "# Rename column to make names more intuitive\n",
    "prices = prices.rename(columns={\"^GSPC\": \"SP500\", \"^RUT\": \"Russell2000\"})"
   ]
  },
  {
   "cell_type": "code",
   "execution_count": 5,
   "metadata": {},
   "outputs": [
    {
     "data": {
      "text/html": [
       "<div>\n",
       "<style scoped>\n",
       "    .dataframe tbody tr th:only-of-type {\n",
       "        vertical-align: middle;\n",
       "    }\n",
       "\n",
       "    .dataframe tbody tr th {\n",
       "        vertical-align: top;\n",
       "    }\n",
       "\n",
       "    .dataframe thead th {\n",
       "        text-align: right;\n",
       "    }\n",
       "</style>\n",
       "<table border=\"1\" class=\"dataframe\">\n",
       "  <thead>\n",
       "    <tr style=\"text-align: right;\">\n",
       "      <th></th>\n",
       "      <th>SP500</th>\n",
       "      <th>Russell2000</th>\n",
       "    </tr>\n",
       "    <tr>\n",
       "      <th>Date</th>\n",
       "      <th></th>\n",
       "      <th></th>\n",
       "    </tr>\n",
       "  </thead>\n",
       "  <tbody>\n",
       "    <tr>\n",
       "      <th>2022-06-23</th>\n",
       "      <td>3,795.730</td>\n",
       "      <td>1,711.670</td>\n",
       "    </tr>\n",
       "    <tr>\n",
       "      <th>2022-06-24</th>\n",
       "      <td>3,911.740</td>\n",
       "      <td>1,765.740</td>\n",
       "    </tr>\n",
       "    <tr>\n",
       "      <th>2022-06-27</th>\n",
       "      <td>3,900.110</td>\n",
       "      <td>1,771.740</td>\n",
       "    </tr>\n",
       "    <tr>\n",
       "      <th>2022-06-28</th>\n",
       "      <td>3,821.550</td>\n",
       "      <td>1,738.840</td>\n",
       "    </tr>\n",
       "    <tr>\n",
       "      <th>2022-06-29</th>\n",
       "      <td>3,818.830</td>\n",
       "      <td>1,719.370</td>\n",
       "    </tr>\n",
       "    <tr>\n",
       "      <th>...</th>\n",
       "      <td>...</td>\n",
       "      <td>...</td>\n",
       "    </tr>\n",
       "    <tr>\n",
       "      <th>2023-06-15</th>\n",
       "      <td>4,425.840</td>\n",
       "      <td>1,889.280</td>\n",
       "    </tr>\n",
       "    <tr>\n",
       "      <th>2023-06-16</th>\n",
       "      <td>4,409.590</td>\n",
       "      <td>1,875.470</td>\n",
       "    </tr>\n",
       "    <tr>\n",
       "      <th>2023-06-20</th>\n",
       "      <td>4,388.710</td>\n",
       "      <td>1,866.700</td>\n",
       "    </tr>\n",
       "    <tr>\n",
       "      <th>2023-06-21</th>\n",
       "      <td>4,365.690</td>\n",
       "      <td>1,863.010</td>\n",
       "    </tr>\n",
       "    <tr>\n",
       "      <th>2023-06-22</th>\n",
       "      <td>4,381.890</td>\n",
       "      <td>1,848.180</td>\n",
       "    </tr>\n",
       "  </tbody>\n",
       "</table>\n",
       "<p>251 rows × 2 columns</p>\n",
       "</div>"
      ],
      "text/plain": [
       "               SP500  Russell2000\n",
       "Date                             \n",
       "2022-06-23 3,795.730    1,711.670\n",
       "2022-06-24 3,911.740    1,765.740\n",
       "2022-06-27 3,900.110    1,771.740\n",
       "2022-06-28 3,821.550    1,738.840\n",
       "2022-06-29 3,818.830    1,719.370\n",
       "...              ...          ...\n",
       "2023-06-15 4,425.840    1,889.280\n",
       "2023-06-16 4,409.590    1,875.470\n",
       "2023-06-20 4,388.710    1,866.700\n",
       "2023-06-21 4,365.690    1,863.010\n",
       "2023-06-22 4,381.890    1,848.180\n",
       "\n",
       "[251 rows x 2 columns]"
      ]
     },
     "execution_count": 5,
     "metadata": {},
     "output_type": "execute_result"
    }
   ],
   "source": [
    "prices"
   ]
  },
  {
   "cell_type": "code",
   "execution_count": 6,
   "metadata": {},
   "outputs": [],
   "source": [
    "# IP2: Calculate Log return, remove unused columns\n",
    "df = np.log(prices) - np.log(prices.shift(1))\n",
    "df = df.iloc[1:, 0:]"
   ]
  },
  {
   "cell_type": "code",
   "execution_count": 7,
   "metadata": {},
   "outputs": [
    {
     "data": {
      "text/html": [
       "<div>\n",
       "<style scoped>\n",
       "    .dataframe tbody tr th:only-of-type {\n",
       "        vertical-align: middle;\n",
       "    }\n",
       "\n",
       "    .dataframe tbody tr th {\n",
       "        vertical-align: top;\n",
       "    }\n",
       "\n",
       "    .dataframe thead th {\n",
       "        text-align: right;\n",
       "    }\n",
       "</style>\n",
       "<table border=\"1\" class=\"dataframe\">\n",
       "  <thead>\n",
       "    <tr style=\"text-align: right;\">\n",
       "      <th></th>\n",
       "      <th>SP500</th>\n",
       "      <th>Russell2000</th>\n",
       "    </tr>\n",
       "    <tr>\n",
       "      <th>Date</th>\n",
       "      <th></th>\n",
       "      <th></th>\n",
       "    </tr>\n",
       "  </thead>\n",
       "  <tbody>\n",
       "    <tr>\n",
       "      <th>2022-06-24</th>\n",
       "      <td>0.030</td>\n",
       "      <td>0.031</td>\n",
       "    </tr>\n",
       "    <tr>\n",
       "      <th>2022-06-27</th>\n",
       "      <td>-0.003</td>\n",
       "      <td>0.003</td>\n",
       "    </tr>\n",
       "    <tr>\n",
       "      <th>2022-06-28</th>\n",
       "      <td>-0.020</td>\n",
       "      <td>-0.019</td>\n",
       "    </tr>\n",
       "    <tr>\n",
       "      <th>2022-06-29</th>\n",
       "      <td>-0.001</td>\n",
       "      <td>-0.011</td>\n",
       "    </tr>\n",
       "    <tr>\n",
       "      <th>2022-06-30</th>\n",
       "      <td>-0.009</td>\n",
       "      <td>-0.007</td>\n",
       "    </tr>\n",
       "  </tbody>\n",
       "</table>\n",
       "</div>"
      ],
      "text/plain": [
       "            SP500  Russell2000\n",
       "Date                          \n",
       "2022-06-24  0.030        0.031\n",
       "2022-06-27 -0.003        0.003\n",
       "2022-06-28 -0.020       -0.019\n",
       "2022-06-29 -0.001       -0.011\n",
       "2022-06-30 -0.009       -0.007"
      ]
     },
     "execution_count": 7,
     "metadata": {},
     "output_type": "execute_result"
    }
   ],
   "source": [
    "df.head()"
   ]
  },
  {
   "cell_type": "code",
   "execution_count": 8,
   "metadata": {},
   "outputs": [
    {
     "data": {
      "text/plain": [
       "SP500         4,252.566\n",
       "Russell2000   2,167.246\n",
       "dtype: float64"
      ]
     },
     "execution_count": 8,
     "metadata": {},
     "output_type": "execute_result"
    }
   ],
   "source": [
    "# IP3: Calculate Future Value of each index\n",
    "#   - Calculate mean (expected value) of log return of each index\n",
    "#   - Assuming expected value remains constant for everyday, multiply it with 252 trading days, 10 years, 1000$.\n",
    "df.mean() * 100\n",
    "np.exp(df.mean() * 252 * 10) * 1000"
   ]
  },
  {
   "attachments": {},
   "cell_type": "markdown",
   "metadata": {},
   "source": [
    "## Volatility 1: High - Low"
   ]
  },
  {
   "cell_type": "code",
   "execution_count": 9,
   "metadata": {},
   "outputs": [
    {
     "data": {
      "text/plain": [
       "SP500         848.810\n",
       "Russell2000   365.470\n",
       "dtype: float64"
      ]
     },
     "execution_count": 9,
     "metadata": {},
     "output_type": "execute_result"
    }
   ],
   "source": [
    "# VL1: Calculate simple volatility in dataset with max - min\n",
    "prices.max() - prices.min()"
   ]
  },
  {
   "cell_type": "code",
   "execution_count": 10,
   "metadata": {},
   "outputs": [
    {
     "data": {
      "text/plain": [
       "SP500         848.810\n",
       "Russell2000   365.470\n",
       "dtype: float64"
      ]
     },
     "execution_count": 10,
     "metadata": {},
     "output_type": "execute_result"
    }
   ],
   "source": [
    "# VL2: Calculate simple volatility in the latest data points with max - min\n",
    "currYear = prices.loc[\n",
    "    date.today() - datetime.timedelta(365) : date.today()  # noqa E203\n",
    "]\n",
    "currYear.max() - currYear.min()"
   ]
  },
  {
   "cell_type": "code",
   "execution_count": 11,
   "metadata": {},
   "outputs": [
    {
     "data": {
      "text/plain": [
       "SP500         0.194\n",
       "Russell2000   0.198\n",
       "dtype: float64"
      ]
     },
     "execution_count": 11,
     "metadata": {},
     "output_type": "execute_result"
    }
   ],
   "source": [
    "# VL3: Standardize volatility by dividing the most current price\n",
    "# It is hard if you compare volatility of 2 different datasets, since they have different starting points.\n",
    "# So standardize it by dividing by the current price of the index\n",
    "(currYear.max() - currYear.min()) / prices.iloc[-1]"
   ]
  },
  {
   "attachments": {},
   "cell_type": "markdown",
   "metadata": {},
   "source": [
    "## Volatility 2: With Moving Averages (Rolling Distance)"
   ]
  },
  {
   "cell_type": "code",
   "execution_count": 12,
   "metadata": {},
   "outputs": [
    {
     "data": {
      "image/png": "[encoded data removed]",
      "text/plain": [
       "<Figure size 1200x500 with 1 Axes>"
      ]
     },
     "metadata": {},
     "output_type": "display_data"
    }
   ],
   "source": [
    "# MA1: Set rolling average, then plot it\n",
    "prices[\"SP500 50 day_rolling_avg\"] = prices.SP500.rolling(50).mean()\n",
    "\n",
    "# set figure size\n",
    "plt.figure(figsize=(12, 5))\n",
    "\n",
    "# plot a simple time series plot using seaborn.lineplot()\n",
    "sns.lineplot(x=\"Date\", y=\"SP500\", data=prices, label=\"Daily S&P 500 Prices\")\n",
    "\n",
    "# plot rolling average\n",
    "sns.lineplot(x=\"Date\", y=\"SP500 50 day_rolling_avg\", data=prices, label=\"Rollingavg\");"
   ]
  },
  {
   "cell_type": "code",
   "execution_count": 13,
   "metadata": {},
   "outputs": [
    {
     "data": {
      "text/plain": [
       "SP500                      0.031\n",
       "Russell2000                0.038\n",
       "SP500 50 day_rolling_avg   0.015\n",
       "dtype: float64"
      ]
     },
     "execution_count": 13,
     "metadata": {},
     "output_type": "execute_result"
    }
   ],
   "source": [
    "# MA2: Calculate Rolling Distance \n",
    "# 1. taking the distance between the moving average line and each data point \n",
    "# 2. standardize the distance by dividing the price\n",
    "# 3. take average of these standardized distance\n",
    "((abs(prices - prices.rolling(50).mean())) / prices).mean()"
   ]
  },
  {
   "attachments": {},
   "cell_type": "markdown",
   "metadata": {},
   "source": [
    "## Volatility 3: Standard Deviation"
   ]
  },
  {
   "cell_type": "code",
   "execution_count": 14,
   "metadata": {},
   "outputs": [
    {
     "data": {
      "text/plain": [
       "SP500                      174.431\n",
       "Russell2000                 78.478\n",
       "SP500 50 day_rolling_avg    99.737\n",
       "dtype: float64"
      ]
     },
     "execution_count": 14,
     "metadata": {},
     "output_type": "execute_result"
    }
   ],
   "source": [
    "# SD1: Calculate Volatility with Standard Deviation\n",
    "prices.std()"
   ]
  },
  {
   "attachments": {},
   "cell_type": "markdown",
   "metadata": {},
   "source": [
    "## Volatility 4: Comparison Function for different tickers \n",
    "- With High-Low, SMA, Standard Deviation Volatility"
   ]
  },
  {
   "cell_type": "code",
   "execution_count": 15,
   "metadata": {},
   "outputs": [],
   "source": [
    "# CF1: Comparison Function \n",
    "def investCompare(startTime, endTime, tickers):\n",
    "    # pull price data from yahoo -- (list(tickers.keys())) = ['^GSPC','^RUT']\n",
    "    prices = web.DataReader(list(tickers.keys()), startTime, endTime)[\"Adj Close\"]\n",
    "    prices = prices.rename(columns=tickers)\n",
    "    returns = np.log(prices) - np.log(prices.shift(1))\n",
    "    returns = returns.iloc[1:, 0:]\n",
    "\n",
    "    # pull data into separate DataFrame, 52weeks to just look at the last 365 days of\n",
    "    # data for calculating our high/low metric\n",
    "    currYear = prices.loc[\n",
    "        date.today() - datetime.timedelta(365) : date.today()  # noqa E203\n",
    "    ]\n",
    "    highLow = (currYear.max() - currYear.min()) / prices.iloc[-1]\n",
    "    highLow = pd.DataFrame(highLow, columns=[\"HighMinusLow\"])\n",
    "\n",
    "    # Moving average volatility\n",
    "    MA = pd.DataFrame(\n",
    "        ((abs(prices - prices.rolling(50).mean())) / prices).mean(),\n",
    "        columns=[\"MovingAverageVolatility\"],\n",
    "    )\n",
    "\n",
    "    investments = pd.merge(highLow, MA, left_index=True, right_index=True)\n",
    "    investments = pd.merge(\n",
    "        investments,\n",
    "        pd.DataFrame(returns.std(), columns=[\"StandardDeviation\"]),\n",
    "        left_index=True,\n",
    "        right_index=True,\n",
    "    )\n",
    "    investments = pd.merge(\n",
    "        investments,\n",
    "        pd.DataFrame(100 * returns.mean(), columns=[\"Daily Return Percentage\"]),\n",
    "        left_index=True,\n",
    "        right_index=True,\n",
    "    )\n",
    "\n",
    "    return investments.round(3)"
   ]
  },
  {
   "cell_type": "code",
   "execution_count": 16,
   "metadata": {},
   "outputs": [
    {
     "name": "stdout",
     "output_type": "stream",
     "text": [
      "[*********************100%***********************]  2 of 2 completed\n"
     ]
    },
    {
     "data": {
      "text/html": [
       "<div>\n",
       "<style scoped>\n",
       "    .dataframe tbody tr th:only-of-type {\n",
       "        vertical-align: middle;\n",
       "    }\n",
       "\n",
       "    .dataframe tbody tr th {\n",
       "        vertical-align: top;\n",
       "    }\n",
       "\n",
       "    .dataframe thead th {\n",
       "        text-align: right;\n",
       "    }\n",
       "</style>\n",
       "<table border=\"1\" class=\"dataframe\">\n",
       "  <thead>\n",
       "    <tr style=\"text-align: right;\">\n",
       "      <th></th>\n",
       "      <th>HighMinusLow</th>\n",
       "      <th>MovingAverageVolatility</th>\n",
       "      <th>StandardDeviation</th>\n",
       "      <th>Daily Return Percentage</th>\n",
       "    </tr>\n",
       "  </thead>\n",
       "  <tbody>\n",
       "    <tr>\n",
       "      <th>SP500</th>\n",
       "      <td>0.194</td>\n",
       "      <td>0.039</td>\n",
       "      <td>0.015</td>\n",
       "      <td>0.034</td>\n",
       "    </tr>\n",
       "    <tr>\n",
       "      <th>Russell2000</th>\n",
       "      <td>0.198</td>\n",
       "      <td>0.053</td>\n",
       "      <td>0.020</td>\n",
       "      <td>0.012</td>\n",
       "    </tr>\n",
       "  </tbody>\n",
       "</table>\n",
       "</div>"
      ],
      "text/plain": [
       "             HighMinusLow  MovingAverageVolatility  StandardDeviation  \\\n",
       "SP500               0.194                    0.039              0.015   \n",
       "Russell2000         0.198                    0.053              0.020   \n",
       "\n",
       "             Daily Return Percentage  \n",
       "SP500                          0.034  \n",
       "Russell2000                    0.012  "
      ]
     },
     "execution_count": 16,
     "metadata": {},
     "output_type": "execute_result"
    }
   ],
   "source": [
    "investCompare(\n",
    "    datetime.date(2020, 1, 1),\n",
    "    datetime.date.today(),\n",
    "    {\"^GSPC\": \"SP500\", \"^RUT\": \"Russell2000\"},\n",
    ")"
   ]
  },
  {
   "cell_type": "code",
   "execution_count": 17,
   "metadata": {},
   "outputs": [
    {
     "name": "stdout",
     "output_type": "stream",
     "text": [
      "[*********************100%***********************]  2 of 2 completed\n"
     ]
    },
    {
     "data": {
      "text/html": [
       "<div>\n",
       "<style scoped>\n",
       "    .dataframe tbody tr th:only-of-type {\n",
       "        vertical-align: middle;\n",
       "    }\n",
       "\n",
       "    .dataframe tbody tr th {\n",
       "        vertical-align: top;\n",
       "    }\n",
       "\n",
       "    .dataframe thead th {\n",
       "        text-align: right;\n",
       "    }\n",
       "</style>\n",
       "<table border=\"1\" class=\"dataframe\">\n",
       "  <thead>\n",
       "    <tr style=\"text-align: right;\">\n",
       "      <th></th>\n",
       "      <th>HighMinusLow</th>\n",
       "      <th>MovingAverageVolatility</th>\n",
       "      <th>StandardDeviation</th>\n",
       "      <th>Daily Return Percentage</th>\n",
       "    </tr>\n",
       "  </thead>\n",
       "  <tbody>\n",
       "    <tr>\n",
       "      <th>Value</th>\n",
       "      <td>0.160</td>\n",
       "      <td>0.034</td>\n",
       "      <td>0.015</td>\n",
       "      <td>0.028</td>\n",
       "    </tr>\n",
       "    <tr>\n",
       "      <th>Growth</th>\n",
       "      <td>0.265</td>\n",
       "      <td>0.051</td>\n",
       "      <td>0.018</td>\n",
       "      <td>0.050</td>\n",
       "    </tr>\n",
       "  </tbody>\n",
       "</table>\n",
       "</div>"
      ],
      "text/plain": [
       "        HighMinusLow  MovingAverageVolatility  StandardDeviation  \\\n",
       "Value          0.160                    0.034              0.015   \n",
       "Growth         0.265                    0.051              0.018   \n",
       "\n",
       "        Daily Return Percentage  \n",
       "Value                     0.028  \n",
       "Growth                    0.050  "
      ]
     },
     "execution_count": 17,
     "metadata": {},
     "output_type": "execute_result"
    }
   ],
   "source": [
    "investCompare(\n",
    "    datetime.date(2020, 1, 1), datetime.date.today(), {\"VUG\": \"Growth\", \"VTV\": \"Value\"}\n",
    ")"
   ]
  },
  {
   "cell_type": "code",
   "execution_count": null,
   "metadata": {},
   "outputs": [],
   "source": []
  }
 ],
 "metadata": {
  "kernelspec": {
   "display_name": "Python 3",
   "language": "python",
   "name": "python3"
  },
  "language_info": {
   "codemirror_mode": {
    "name": "ipython",
    "version": 3
   },
   "file_extension": ".py",
   "mimetype": "text/x-python",
   "name": "python",
   "nbconvert_exporter": "python",
   "pygments_lexer": "ipython3",
   "version": "3.11.1"
  },
  "orig_nbformat": 4
 },
 "nbformat": 4,
 "nbformat_minor": 2
}
