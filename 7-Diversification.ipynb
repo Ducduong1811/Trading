{
 "cells": [
  {
   "cell_type": "code",
   "execution_count": 2,
   "metadata": {},
   "outputs": [],
   "source": [
    "import datetime\n",
    "\n",
    "import pandas as pd\n",
    "import pandas_datareader.data as web\n",
    "import seaborn as sns\n",
    "import yfinance as yfin\n",
    "\n",
    "yfin.pdr_override()"
   ]
  },
  {
   "attachments": {},
   "cell_type": "markdown",
   "metadata": {},
   "source": [
    "# Diversification"
   ]
  },
  {
   "cell_type": "code",
   "execution_count": 3,
   "metadata": {},
   "outputs": [
    {
     "name": "stdout",
     "output_type": "stream",
     "text": [
      "[*********************100%***********************]  2 of 2 completed\n"
     ]
    }
   ],
   "source": [
    "# start = datetime.date.today()-datetime.timedelta(365*10)\n",
    "# end = datetime.date.today()\n",
    "start = datetime.date(2016, 11, 29)\n",
    "end = datetime.date(2021, 11, 28)\n",
    "\n",
    "prices = web.DataReader([\"JPM\", \"BTC-USD\"], start, end)[\"Adj Close\"]\n",
    "prices = prices.rename(columns={\"BTC-USD\": \"BTC\"})\n",
    "prices = prices.dropna()\n",
    "returns = prices.pct_change()"
   ]
  },
  {
   "cell_type": "code",
   "execution_count": 4,
   "metadata": {},
   "outputs": [
    {
     "data": {
      "text/html": [
       "<div>\n",
       "<style scoped>\n",
       "    .dataframe tbody tr th:only-of-type {\n",
       "        vertical-align: middle;\n",
       "    }\n",
       "\n",
       "    .dataframe tbody tr th {\n",
       "        vertical-align: top;\n",
       "    }\n",
       "\n",
       "    .dataframe thead th {\n",
       "        text-align: right;\n",
       "    }\n",
       "</style>\n",
       "<table border=\"1\" class=\"dataframe\">\n",
       "  <thead>\n",
       "    <tr style=\"text-align: right;\">\n",
       "      <th></th>\n",
       "      <th>BTC</th>\n",
       "      <th>JPM</th>\n",
       "    </tr>\n",
       "    <tr>\n",
       "      <th>Date</th>\n",
       "      <th></th>\n",
       "      <th></th>\n",
       "    </tr>\n",
       "  </thead>\n",
       "  <tbody>\n",
       "    <tr>\n",
       "      <th>2016-11-29</th>\n",
       "      <td>NaN</td>\n",
       "      <td>NaN</td>\n",
       "    </tr>\n",
       "    <tr>\n",
       "      <th>2016-11-30</th>\n",
       "      <td>0.013713</td>\n",
       "      <td>0.015839</td>\n",
       "    </tr>\n",
       "    <tr>\n",
       "      <th>2016-12-01</th>\n",
       "      <td>0.014863</td>\n",
       "      <td>0.020207</td>\n",
       "    </tr>\n",
       "    <tr>\n",
       "      <th>2016-12-02</th>\n",
       "      <td>0.027974</td>\n",
       "      <td>-0.002323</td>\n",
       "    </tr>\n",
       "    <tr>\n",
       "      <th>2016-12-05</th>\n",
       "      <td>-0.024737</td>\n",
       "      <td>0.020343</td>\n",
       "    </tr>\n",
       "  </tbody>\n",
       "</table>\n",
       "</div>"
      ],
      "text/plain": [
       "                 BTC       JPM\n",
       "Date                          \n",
       "2016-11-29       NaN       NaN\n",
       "2016-11-30  0.013713  0.015839\n",
       "2016-12-01  0.014863  0.020207\n",
       "2016-12-02  0.027974 -0.002323\n",
       "2016-12-05 -0.024737  0.020343"
      ]
     },
     "execution_count": 4,
     "metadata": {},
     "output_type": "execute_result"
    }
   ],
   "source": [
    "# observe data\n",
    "returns.head()"
   ]
  },
  {
   "cell_type": "markdown",
   "metadata": {},
   "source": [
    "## 1.1 Determine Initial Investment"
   ]
  },
  {
   "cell_type": "code",
   "execution_count": 5,
   "metadata": {},
   "outputs": [],
   "source": [
    "# Determine weights\n",
    "initialJPM = prices.JPM[0] * 100\n",
    "initialBTC = prices.BTC[0] * 5\n",
    "initialInvestment = initialJPM + initialBTC"
   ]
  },
  {
   "cell_type": "code",
   "execution_count": 6,
   "metadata": {},
   "outputs": [
    {
     "name": "stdout",
     "output_type": "stream",
     "text": [
      "This would make the weights 0.641 and 0.359 for JPM and BTC respectively\n"
     ]
    }
   ],
   "source": [
    "weightJPM = initialJPM / (initialBTC + initialJPM)\n",
    "weightBTC = 1 - weightJPM\n",
    "print(\n",
    "    \"This would make the weights %.3f and %.3f for JPM and BTC respectively\"\n",
    "    % (weightJPM, weightBTC)\n",
    ")"
   ]
  },
  {
   "cell_type": "markdown",
   "metadata": {},
   "source": [
    "## 1.2 Calculate Portfolio Daily Returns"
   ]
  },
  {
   "cell_type": "code",
   "execution_count": 7,
   "metadata": {},
   "outputs": [
    {
     "data": {
      "text/html": [
       "<div>\n",
       "<style scoped>\n",
       "    .dataframe tbody tr th:only-of-type {\n",
       "        vertical-align: middle;\n",
       "    }\n",
       "\n",
       "    .dataframe tbody tr th {\n",
       "        vertical-align: top;\n",
       "    }\n",
       "\n",
       "    .dataframe thead th {\n",
       "        text-align: right;\n",
       "    }\n",
       "</style>\n",
       "<table border=\"1\" class=\"dataframe\">\n",
       "  <thead>\n",
       "    <tr style=\"text-align: right;\">\n",
       "      <th></th>\n",
       "      <th>BTC</th>\n",
       "      <th>JPM</th>\n",
       "      <th>Portfolio</th>\n",
       "    </tr>\n",
       "    <tr>\n",
       "      <th>Date</th>\n",
       "      <th></th>\n",
       "      <th></th>\n",
       "      <th></th>\n",
       "    </tr>\n",
       "  </thead>\n",
       "  <tbody>\n",
       "    <tr>\n",
       "      <th>2016-11-29</th>\n",
       "      <td>NaN</td>\n",
       "      <td>NaN</td>\n",
       "      <td>NaN</td>\n",
       "    </tr>\n",
       "    <tr>\n",
       "      <th>2016-11-30</th>\n",
       "      <td>1.013713</td>\n",
       "      <td>1.015839</td>\n",
       "      <td>1.015076</td>\n",
       "    </tr>\n",
       "    <tr>\n",
       "      <th>2016-12-01</th>\n",
       "      <td>1.014863</td>\n",
       "      <td>1.020207</td>\n",
       "      <td>1.018290</td>\n",
       "    </tr>\n",
       "    <tr>\n",
       "      <th>2016-12-02</th>\n",
       "      <td>1.027974</td>\n",
       "      <td>0.997677</td>\n",
       "      <td>1.008546</td>\n",
       "    </tr>\n",
       "    <tr>\n",
       "      <th>2016-12-05</th>\n",
       "      <td>0.975263</td>\n",
       "      <td>1.020343</td>\n",
       "      <td>1.004170</td>\n",
       "    </tr>\n",
       "  </tbody>\n",
       "</table>\n",
       "</div>"
      ],
      "text/plain": [
       "                 BTC       JPM  Portfolio\n",
       "Date                                     \n",
       "2016-11-29       NaN       NaN        NaN\n",
       "2016-11-30  1.013713  1.015839   1.015076\n",
       "2016-12-01  1.014863  1.020207   1.018290\n",
       "2016-12-02  1.027974  0.997677   1.008546\n",
       "2016-12-05  0.975263  1.020343   1.004170"
      ]
     },
     "execution_count": 7,
     "metadata": {},
     "output_type": "execute_result"
    }
   ],
   "source": [
    "returns[\"Portfolio\"] = (returns.JPM * weightJPM) + (returns.BTC * weightBTC)\n",
    "returns = returns + 1\n",
    "returns.head()"
   ]
  },
  {
   "cell_type": "code",
   "execution_count": 8,
   "metadata": {},
   "outputs": [
    {
     "data": {
      "text/html": [
       "<div>\n",
       "<style scoped>\n",
       "    .dataframe tbody tr th:only-of-type {\n",
       "        vertical-align: middle;\n",
       "    }\n",
       "\n",
       "    .dataframe tbody tr th {\n",
       "        vertical-align: top;\n",
       "    }\n",
       "\n",
       "    .dataframe thead th {\n",
       "        text-align: right;\n",
       "    }\n",
       "</style>\n",
       "<table border=\"1\" class=\"dataframe\">\n",
       "  <thead>\n",
       "    <tr style=\"text-align: right;\">\n",
       "      <th></th>\n",
       "      <th>BTC</th>\n",
       "      <th>JPM</th>\n",
       "      <th>Portfolio</th>\n",
       "    </tr>\n",
       "    <tr>\n",
       "      <th>Date</th>\n",
       "      <th></th>\n",
       "      <th></th>\n",
       "      <th></th>\n",
       "    </tr>\n",
       "  </thead>\n",
       "  <tbody>\n",
       "    <tr>\n",
       "      <th>2016-11-29</th>\n",
       "      <td>10000.000000</td>\n",
       "      <td>10000.000000</td>\n",
       "      <td>10000.000000</td>\n",
       "    </tr>\n",
       "    <tr>\n",
       "      <th>2016-11-30</th>\n",
       "      <td>1.013713</td>\n",
       "      <td>1.015839</td>\n",
       "      <td>1.015076</td>\n",
       "    </tr>\n",
       "    <tr>\n",
       "      <th>2016-12-01</th>\n",
       "      <td>1.014863</td>\n",
       "      <td>1.020207</td>\n",
       "      <td>1.018290</td>\n",
       "    </tr>\n",
       "    <tr>\n",
       "      <th>2016-12-02</th>\n",
       "      <td>1.027974</td>\n",
       "      <td>0.997677</td>\n",
       "      <td>1.008546</td>\n",
       "    </tr>\n",
       "    <tr>\n",
       "      <th>2016-12-05</th>\n",
       "      <td>0.975263</td>\n",
       "      <td>1.020343</td>\n",
       "      <td>1.004170</td>\n",
       "    </tr>\n",
       "  </tbody>\n",
       "</table>\n",
       "</div>"
      ],
      "text/plain": [
       "                     BTC           JPM     Portfolio\n",
       "Date                                                \n",
       "2016-11-29  10000.000000  10000.000000  10000.000000\n",
       "2016-11-30      1.013713      1.015839      1.015076\n",
       "2016-12-01      1.014863      1.020207      1.018290\n",
       "2016-12-02      1.027974      0.997677      1.008546\n",
       "2016-12-05      0.975263      1.020343      1.004170"
      ]
     },
     "execution_count": 8,
     "metadata": {},
     "output_type": "execute_result"
    }
   ],
   "source": [
    "returns.iloc[0] = 10000\n",
    "returns.head()"
   ]
  },
  {
   "cell_type": "code",
   "execution_count": 9,
   "metadata": {},
   "outputs": [
    {
     "data": {
      "text/html": [
       "<div>\n",
       "<style scoped>\n",
       "    .dataframe tbody tr th:only-of-type {\n",
       "        vertical-align: middle;\n",
       "    }\n",
       "\n",
       "    .dataframe tbody tr th {\n",
       "        vertical-align: top;\n",
       "    }\n",
       "\n",
       "    .dataframe thead th {\n",
       "        text-align: right;\n",
       "    }\n",
       "</style>\n",
       "<table border=\"1\" class=\"dataframe\">\n",
       "  <thead>\n",
       "    <tr style=\"text-align: right;\">\n",
       "      <th></th>\n",
       "      <th>BTC</th>\n",
       "      <th>JPM</th>\n",
       "      <th>Portfolio</th>\n",
       "    </tr>\n",
       "    <tr>\n",
       "      <th>Date</th>\n",
       "      <th></th>\n",
       "      <th></th>\n",
       "      <th></th>\n",
       "    </tr>\n",
       "  </thead>\n",
       "  <tbody>\n",
       "    <tr>\n",
       "      <th>2016-11-29</th>\n",
       "      <td>10000.000000</td>\n",
       "      <td>10000.000000</td>\n",
       "      <td>10000.000000</td>\n",
       "    </tr>\n",
       "    <tr>\n",
       "      <th>2016-11-30</th>\n",
       "      <td>10137.125071</td>\n",
       "      <td>10158.389380</td>\n",
       "      <td>10150.760802</td>\n",
       "    </tr>\n",
       "    <tr>\n",
       "      <th>2016-12-01</th>\n",
       "      <td>10287.790480</td>\n",
       "      <td>10363.662527</td>\n",
       "      <td>10336.417261</td>\n",
       "    </tr>\n",
       "    <tr>\n",
       "      <th>2016-12-02</th>\n",
       "      <td>10575.580959</td>\n",
       "      <td>10339.587017</td>\n",
       "      <td>10424.752365</td>\n",
       "    </tr>\n",
       "    <tr>\n",
       "      <th>2016-12-05</th>\n",
       "      <td>10313.973390</td>\n",
       "      <td>10549.922218</td>\n",
       "      <td>10468.227416</td>\n",
       "    </tr>\n",
       "    <tr>\n",
       "      <th>...</th>\n",
       "      <td>...</td>\n",
       "      <td>...</td>\n",
       "      <td>...</td>\n",
       "    </tr>\n",
       "    <tr>\n",
       "      <th>2021-11-19</th>\n",
       "      <td>790093.281390</td>\n",
       "      <td>23370.826808</td>\n",
       "      <td>119461.205294</td>\n",
       "    </tr>\n",
       "    <tr>\n",
       "      <th>2021-11-22</th>\n",
       "      <td>765211.836309</td>\n",
       "      <td>23868.971476</td>\n",
       "      <td>119744.379261</td>\n",
       "    </tr>\n",
       "    <tr>\n",
       "      <th>2021-11-23</th>\n",
       "      <td>782609.582235</td>\n",
       "      <td>24439.737242</td>\n",
       "      <td>122557.216789</td>\n",
       "    </tr>\n",
       "    <tr>\n",
       "      <th>2021-11-24</th>\n",
       "      <td>765091.346463</td>\n",
       "      <td>24248.029054</td>\n",
       "      <td>120956.565072</td>\n",
       "    </tr>\n",
       "    <tr>\n",
       "      <th>2021-11-26</th>\n",
       "      <td>728241.898366</td>\n",
       "      <td>23517.508012</td>\n",
       "      <td>116529.844549</td>\n",
       "    </tr>\n",
       "  </tbody>\n",
       "</table>\n",
       "<p>1258 rows × 3 columns</p>\n",
       "</div>"
      ],
      "text/plain": [
       "                      BTC           JPM      Portfolio\n",
       "Date                                                  \n",
       "2016-11-29   10000.000000  10000.000000   10000.000000\n",
       "2016-11-30   10137.125071  10158.389380   10150.760802\n",
       "2016-12-01   10287.790480  10363.662527   10336.417261\n",
       "2016-12-02   10575.580959  10339.587017   10424.752365\n",
       "2016-12-05   10313.973390  10549.922218   10468.227416\n",
       "...                   ...           ...            ...\n",
       "2021-11-19  790093.281390  23370.826808  119461.205294\n",
       "2021-11-22  765211.836309  23868.971476  119744.379261\n",
       "2021-11-23  782609.582235  24439.737242  122557.216789\n",
       "2021-11-24  765091.346463  24248.029054  120956.565072\n",
       "2021-11-26  728241.898366  23517.508012  116529.844549\n",
       "\n",
       "[1258 rows x 3 columns]"
      ]
     },
     "execution_count": 9,
     "metadata": {},
     "output_type": "execute_result"
    }
   ],
   "source": [
    "returns.cumprod()"
   ]
  },
  {
   "cell_type": "code",
   "execution_count": 10,
   "metadata": {},
   "outputs": [],
   "source": [
    "portValues = returns.cumprod()\n",
    "portValues[\"Date\"] = portValues.index"
   ]
  },
  {
   "cell_type": "code",
   "execution_count": 11,
   "metadata": {},
   "outputs": [
    {
     "data": {
      "image/png": "[encoded data removed]",
      "text/plain": [
       "<Figure size 640x480 with 1 Axes>"
      ]
     },
     "metadata": {},
     "output_type": "display_data"
    }
   ],
   "source": [
    "sns.lineplot(\n",
    "    x=\"Date\", y=\"value\", hue=\"variable\", data=portValues.melt(id_vars=[\"Date\"])\n",
    ");"
   ]
  },
  {
   "cell_type": "code",
   "execution_count": null,
   "metadata": {},
   "outputs": [],
   "source": []
  }
 ],
 "metadata": {
  "kernelspec": {
   "display_name": "Python 3",
   "language": "python",
   "name": "python3"
  },
  "language_info": {
   "codemirror_mode": {
    "name": "ipython",
    "version": 3
   },
   "file_extension": ".py",
   "mimetype": "text/x-python",
   "name": "python",
   "nbconvert_exporter": "python",
   "pygments_lexer": "ipython3",
   "version": "3.11.1"
  },
  "orig_nbformat": 4
 },
 "nbformat": 4,
 "nbformat_minor": 2
}
