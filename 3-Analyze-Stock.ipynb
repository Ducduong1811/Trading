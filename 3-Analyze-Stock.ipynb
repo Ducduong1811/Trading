{
 "cells": [
  {
   "attachments": {},
   "cell_type": "markdown",
   "metadata": {},
   "source": [
    "## TOC\n",
    "1. LB1: Import libraries\n",
    "2. "
   ]
  },
  {
   "cell_type": "code",
   "execution_count": 1,
   "metadata": {},
   "outputs": [],
   "source": [
    "# LB1\n",
    "import datetime\n",
    "\n",
    "import numpy as np\n",
    "import pandas_datareader.data as web\n",
    "import yfinance as yfin\n",
    "\n",
    "yfin.pdr_override()"
   ]
  },
  {
   "cell_type": "code",
   "execution_count": 2,
   "metadata": {},
   "outputs": [
    {
     "name": "stdout",
     "output_type": "stream",
     "text": [
      "[*********************100%***********************]  3 of 3 completed\n"
     ]
    }
   ],
   "source": [
    "# IP1: Pulling data from Yahoo\n",
    "\n",
    "start = datetime.date.today() - datetime.timedelta(days=5*365)\n",
    "end = datetime.date.today()\n",
    "# start = datetime.date(2016, 11, 16)\n",
    "# end = datetime.date(2021, 11, 19)\n",
    "df = web.DataReader([\"AMZN\", \"F\", \"BTC-USD\"], start, end)[\"Adj Close\"]\n",
    "df[\"AMZN\"] = 20 * df[\"AMZN\"]  # code adapted for recent AMZN stock split"
   ]
  },
  {
   "cell_type": "code",
   "execution_count": 3,
   "metadata": {},
   "outputs": [
    {
     "data": {
      "text/html": [
       "<div>\n",
       "<style scoped>\n",
       "    .dataframe tbody tr th:only-of-type {\n",
       "        vertical-align: middle;\n",
       "    }\n",
       "\n",
       "    .dataframe tbody tr th {\n",
       "        vertical-align: top;\n",
       "    }\n",
       "\n",
       "    .dataframe thead th {\n",
       "        text-align: right;\n",
       "    }\n",
       "</style>\n",
       "<table border=\"1\" class=\"dataframe\">\n",
       "  <thead>\n",
       "    <tr style=\"text-align: right;\">\n",
       "      <th></th>\n",
       "      <th>AMZN</th>\n",
       "      <th>BTC-USD</th>\n",
       "      <th>F</th>\n",
       "    </tr>\n",
       "    <tr>\n",
       "      <th>Date</th>\n",
       "      <th></th>\n",
       "      <th></th>\n",
       "      <th></th>\n",
       "    </tr>\n",
       "  </thead>\n",
       "  <tbody>\n",
       "    <tr>\n",
       "      <th>2018-06-24</th>\n",
       "      <td>NaN</td>\n",
       "      <td>6173.229980</td>\n",
       "      <td>NaN</td>\n",
       "    </tr>\n",
       "    <tr>\n",
       "      <th>2018-06-25</th>\n",
       "      <td>1663.150024</td>\n",
       "      <td>6249.180176</td>\n",
       "      <td>9.196166</td>\n",
       "    </tr>\n",
       "    <tr>\n",
       "      <th>2018-06-26</th>\n",
       "      <td>1691.089935</td>\n",
       "      <td>6093.669922</td>\n",
       "      <td>9.212160</td>\n",
       "    </tr>\n",
       "    <tr>\n",
       "      <th>2018-06-27</th>\n",
       "      <td>1660.509949</td>\n",
       "      <td>6157.129883</td>\n",
       "      <td>9.132193</td>\n",
       "    </tr>\n",
       "    <tr>\n",
       "      <th>2018-06-28</th>\n",
       "      <td>1701.450043</td>\n",
       "      <td>5903.439941</td>\n",
       "      <td>9.020238</td>\n",
       "    </tr>\n",
       "    <tr>\n",
       "      <th>2018-06-29</th>\n",
       "      <td>1699.799957</td>\n",
       "      <td>6218.299805</td>\n",
       "      <td>8.852307</td>\n",
       "    </tr>\n",
       "    <tr>\n",
       "      <th>2018-06-30</th>\n",
       "      <td>NaN</td>\n",
       "      <td>6404.000000</td>\n",
       "      <td>NaN</td>\n",
       "    </tr>\n",
       "    <tr>\n",
       "      <th>2018-07-01</th>\n",
       "      <td>NaN</td>\n",
       "      <td>6385.819824</td>\n",
       "      <td>NaN</td>\n",
       "    </tr>\n",
       "    <tr>\n",
       "      <th>2018-07-02</th>\n",
       "      <td>1713.780060</td>\n",
       "      <td>6614.180176</td>\n",
       "      <td>8.876301</td>\n",
       "    </tr>\n",
       "    <tr>\n",
       "      <th>2018-07-03</th>\n",
       "      <td>1693.959961</td>\n",
       "      <td>6529.589844</td>\n",
       "      <td>8.788336</td>\n",
       "    </tr>\n",
       "  </tbody>\n",
       "</table>\n",
       "</div>"
      ],
      "text/plain": [
       "                   AMZN      BTC-USD         F\n",
       "Date                                          \n",
       "2018-06-24          NaN  6173.229980       NaN\n",
       "2018-06-25  1663.150024  6249.180176  9.196166\n",
       "2018-06-26  1691.089935  6093.669922  9.212160\n",
       "2018-06-27  1660.509949  6157.129883  9.132193\n",
       "2018-06-28  1701.450043  5903.439941  9.020238\n",
       "2018-06-29  1699.799957  6218.299805  8.852307\n",
       "2018-06-30          NaN  6404.000000       NaN\n",
       "2018-07-01          NaN  6385.819824       NaN\n",
       "2018-07-02  1713.780060  6614.180176  8.876301\n",
       "2018-07-03  1693.959961  6529.589844  8.788336"
      ]
     },
     "execution_count": 3,
     "metadata": {},
     "output_type": "execute_result"
    }
   ],
   "source": [
    "# IP2: Look at data head\n",
    "\n",
    "df.head(10)"
   ]
  },
  {
   "cell_type": "code",
   "execution_count": 4,
   "metadata": {},
   "outputs": [
    {
     "data": {
      "text/html": [
       "<div>\n",
       "<style scoped>\n",
       "    .dataframe tbody tr th:only-of-type {\n",
       "        vertical-align: middle;\n",
       "    }\n",
       "\n",
       "    .dataframe tbody tr th {\n",
       "        vertical-align: top;\n",
       "    }\n",
       "\n",
       "    .dataframe thead th {\n",
       "        text-align: right;\n",
       "    }\n",
       "</style>\n",
       "<table border=\"1\" class=\"dataframe\">\n",
       "  <thead>\n",
       "    <tr style=\"text-align: right;\">\n",
       "      <th></th>\n",
       "      <th>AMZN</th>\n",
       "      <th>BTC-USD</th>\n",
       "      <th>F</th>\n",
       "    </tr>\n",
       "  </thead>\n",
       "  <tbody>\n",
       "    <tr>\n",
       "      <th>count</th>\n",
       "      <td>1257.000000</td>\n",
       "      <td>1825.000000</td>\n",
       "      <td>1257.000000</td>\n",
       "    </tr>\n",
       "    <tr>\n",
       "      <th>mean</th>\n",
       "      <td>2452.185185</td>\n",
       "      <td>21857.545490</td>\n",
       "      <td>10.072764</td>\n",
       "    </tr>\n",
       "    <tr>\n",
       "      <th>std</th>\n",
       "      <td>663.532441</td>\n",
       "      <td>16661.299483</td>\n",
       "      <td>3.467641</td>\n",
       "    </tr>\n",
       "    <tr>\n",
       "      <th>min</th>\n",
       "      <td>1343.959961</td>\n",
       "      <td>3236.761719</td>\n",
       "      <td>3.589956</td>\n",
       "    </tr>\n",
       "    <tr>\n",
       "      <th>25%</th>\n",
       "      <td>1847.839966</td>\n",
       "      <td>8181.390137</td>\n",
       "      <td>7.569422</td>\n",
       "    </tr>\n",
       "    <tr>\n",
       "      <th>50%</th>\n",
       "      <td>2271.000061</td>\n",
       "      <td>16847.755859</td>\n",
       "      <td>8.857571</td>\n",
       "    </tr>\n",
       "    <tr>\n",
       "      <th>75%</th>\n",
       "      <td>3162.009888</td>\n",
       "      <td>33746.003906</td>\n",
       "      <td>12.329062</td>\n",
       "    </tr>\n",
       "    <tr>\n",
       "      <th>max</th>\n",
       "      <td>3731.409912</td>\n",
       "      <td>67566.828125</td>\n",
       "      <td>22.664917</td>\n",
       "    </tr>\n",
       "  </tbody>\n",
       "</table>\n",
       "</div>"
      ],
      "text/plain": [
       "              AMZN       BTC-USD            F\n",
       "count  1257.000000   1825.000000  1257.000000\n",
       "mean   2452.185185  21857.545490    10.072764\n",
       "std     663.532441  16661.299483     3.467641\n",
       "min    1343.959961   3236.761719     3.589956\n",
       "25%    1847.839966   8181.390137     7.569422\n",
       "50%    2271.000061  16847.755859     8.857571\n",
       "75%    3162.009888  33746.003906    12.329062\n",
       "max    3731.409912  67566.828125    22.664917"
      ]
     },
     "execution_count": 4,
     "metadata": {},
     "output_type": "execute_result"
    }
   ],
   "source": [
    "# IP3: Look at data overall\n",
    "\n",
    "df.describe()"
   ]
  },
  {
   "cell_type": "code",
   "execution_count": 6,
   "metadata": {},
   "outputs": [
    {
     "data": {
      "text/html": [
       "<div>\n",
       "<style scoped>\n",
       "    .dataframe tbody tr th:only-of-type {\n",
       "        vertical-align: middle;\n",
       "    }\n",
       "\n",
       "    .dataframe tbody tr th {\n",
       "        vertical-align: top;\n",
       "    }\n",
       "\n",
       "    .dataframe thead th {\n",
       "        text-align: right;\n",
       "    }\n",
       "</style>\n",
       "<table border=\"1\" class=\"dataframe\">\n",
       "  <thead>\n",
       "    <tr style=\"text-align: right;\">\n",
       "      <th></th>\n",
       "      <th>AMZN</th>\n",
       "      <th>BTC-USD</th>\n",
       "      <th>F</th>\n",
       "    </tr>\n",
       "    <tr>\n",
       "      <th>Date</th>\n",
       "      <th></th>\n",
       "      <th></th>\n",
       "      <th></th>\n",
       "    </tr>\n",
       "  </thead>\n",
       "  <tbody>\n",
       "    <tr>\n",
       "      <th>2023-06-20</th>\n",
       "      <td>2515.6</td>\n",
       "      <td>28327.488</td>\n",
       "      <td>14.22</td>\n",
       "    </tr>\n",
       "    <tr>\n",
       "      <th>2023-06-21</th>\n",
       "      <td>2496.6</td>\n",
       "      <td>30027.297</td>\n",
       "      <td>14.02</td>\n",
       "    </tr>\n",
       "    <tr>\n",
       "      <th>2023-06-22</th>\n",
       "      <td>2603.0</td>\n",
       "      <td>29912.281</td>\n",
       "      <td>14.19</td>\n",
       "    </tr>\n",
       "  </tbody>\n",
       "</table>\n",
       "</div>"
      ],
      "text/plain": [
       "              AMZN    BTC-USD      F\n",
       "Date                                \n",
       "2023-06-20  2515.6  28327.488  14.22\n",
       "2023-06-21  2496.6  30027.297  14.02\n",
       "2023-06-22  2603.0  29912.281  14.19"
      ]
     },
     "execution_count": 6,
     "metadata": {},
     "output_type": "execute_result"
    }
   ],
   "source": [
    "# CR1: Calculating Simple Return Buy and Hold\n",
    "# Using initial money to buy at past timestamp. Quantity = Initial Money / Price\n",
    "# Multiply Quantity with current price -> Simple Return\n",
    "np.round(df.tail(3), 3)"
   ]
  },
  {
   "cell_type": "code",
   "execution_count": 7,
   "metadata": {},
   "outputs": [
    {
     "name": "stdout",
     "output_type": "stream",
     "text": [
      "AMZN =  4738.34892\n",
      "F =  2046.85866\n",
      "Bitcoin =  77042.71542\n"
     ]
    }
   ],
   "source": [
    "# CR1: Calculating Simple Return Buy and Hold\n",
    "print(\"AMZN = \", 1.282 * 3696.06)\n",
    "print(\"F = \", 114.863 * 17.82)\n",
    "print(\"Bitcoin = \", 1.353 * 56942.14)"
   ]
  },
  {
   "cell_type": "code",
   "execution_count": 8,
   "metadata": {},
   "outputs": [
    {
     "name": "stdout",
     "output_type": "stream",
     "text": [
      "[*********************100%***********************]  1 of 1 completed\n"
     ]
    }
   ],
   "source": [
    "# CR2: Pulling data from Yahoo, then join with current dataframe\n",
    "df = df.join(web.DataReader([\"BLV\"], start, end)[\"Adj Close\"])\n",
    "df.rename(columns={\"Adj Close\": \"BLV\"}, inplace=True)"
   ]
  },
  {
   "cell_type": "code",
   "execution_count": 9,
   "metadata": {},
   "outputs": [],
   "source": [
    "# CR3: Drop null value, remove unsused columns, and calculating log return\n",
    "df = df.dropna()\n",
    "df[\"Amazon\"] = np.log(df.AMZN) - np.log(df.AMZN.shift(1))\n",
    "df[\"Ford\"] = np.log(df.F) - np.log(df.F.shift(1))\n",
    "df[\"Bitcoin\"] = np.log(df[\"BTC-USD\"]) - np.log(df[\"BTC-USD\"].shift(1))\n",
    "df = df.iloc[1:, 3:]"
   ]
  },
  {
   "cell_type": "code",
   "execution_count": 10,
   "metadata": {},
   "outputs": [
    {
     "data": {
      "text/html": [
       "<div>\n",
       "<style scoped>\n",
       "    .dataframe tbody tr th:only-of-type {\n",
       "        vertical-align: middle;\n",
       "    }\n",
       "\n",
       "    .dataframe tbody tr th {\n",
       "        vertical-align: top;\n",
       "    }\n",
       "\n",
       "    .dataframe thead th {\n",
       "        text-align: right;\n",
       "    }\n",
       "</style>\n",
       "<table border=\"1\" class=\"dataframe\">\n",
       "  <thead>\n",
       "    <tr style=\"text-align: right;\">\n",
       "      <th></th>\n",
       "      <th>BLV</th>\n",
       "      <th>Amazon</th>\n",
       "      <th>Ford</th>\n",
       "      <th>Bitcoin</th>\n",
       "    </tr>\n",
       "  </thead>\n",
       "  <tbody>\n",
       "    <tr>\n",
       "      <th>count</th>\n",
       "      <td>1256.000000</td>\n",
       "      <td>1256.000000</td>\n",
       "      <td>1256.000000</td>\n",
       "      <td>1256.000000</td>\n",
       "    </tr>\n",
       "    <tr>\n",
       "      <th>mean</th>\n",
       "      <td>85.210584</td>\n",
       "      <td>0.000357</td>\n",
       "      <td>0.000345</td>\n",
       "      <td>0.001247</td>\n",
       "    </tr>\n",
       "    <tr>\n",
       "      <th>std</th>\n",
       "      <td>10.592206</td>\n",
       "      <td>0.022970</td>\n",
       "      <td>0.026954</td>\n",
       "      <td>0.044328</td>\n",
       "    </tr>\n",
       "    <tr>\n",
       "      <th>min</th>\n",
       "      <td>65.101273</td>\n",
       "      <td>-0.151398</td>\n",
       "      <td>-0.131524</td>\n",
       "      <td>-0.464730</td>\n",
       "    </tr>\n",
       "    <tr>\n",
       "      <th>25%</th>\n",
       "      <td>74.721025</td>\n",
       "      <td>-0.011141</td>\n",
       "      <td>-0.013636</td>\n",
       "      <td>-0.017065</td>\n",
       "    </tr>\n",
       "    <tr>\n",
       "      <th>50%</th>\n",
       "      <td>86.600281</td>\n",
       "      <td>0.001075</td>\n",
       "      <td>0.000000</td>\n",
       "      <td>0.000864</td>\n",
       "    </tr>\n",
       "    <tr>\n",
       "      <th>75%</th>\n",
       "      <td>95.853260</td>\n",
       "      <td>0.012016</td>\n",
       "      <td>0.013974</td>\n",
       "      <td>0.021047</td>\n",
       "    </tr>\n",
       "    <tr>\n",
       "      <th>max</th>\n",
       "      <td>103.712120</td>\n",
       "      <td>0.126949</td>\n",
       "      <td>0.210596</td>\n",
       "      <td>0.203046</td>\n",
       "    </tr>\n",
       "  </tbody>\n",
       "</table>\n",
       "</div>"
      ],
      "text/plain": [
       "               BLV       Amazon         Ford      Bitcoin\n",
       "count  1256.000000  1256.000000  1256.000000  1256.000000\n",
       "mean     85.210584     0.000357     0.000345     0.001247\n",
       "std      10.592206     0.022970     0.026954     0.044328\n",
       "min      65.101273    -0.151398    -0.131524    -0.464730\n",
       "25%      74.721025    -0.011141    -0.013636    -0.017065\n",
       "50%      86.600281     0.001075     0.000000     0.000864\n",
       "75%      95.853260     0.012016     0.013974     0.021047\n",
       "max     103.712120     0.126949     0.210596     0.203046"
      ]
     },
     "execution_count": 10,
     "metadata": {},
     "output_type": "execute_result"
    }
   ],
   "source": [
    "df.describe()"
   ]
  },
  {
   "cell_type": "code",
   "execution_count": 12,
   "metadata": {},
   "outputs": [
    {
     "data": {
      "text/plain": [
       "Bitcoin    57.578181\n",
       "Ford       13.431442\n",
       "dtype: float64"
      ]
     },
     "execution_count": 12,
     "metadata": {},
     "output_type": "execute_result"
    }
   ],
   "source": [
    "# CR4: Converting Daily Return to Annual Return (percent)\n",
    "# In this case, use the mean of return in 5 years, then convert into annual return\n",
    "((df[[\"Bitcoin\", \"Ford\"]].mean() + 1).pow(365) - 1) * 100"
   ]
  }
 ],
 "metadata": {
  "kernelspec": {
   "display_name": "Python 3",
   "language": "python",
   "name": "python3"
  },
  "language_info": {
   "codemirror_mode": {
    "name": "ipython",
    "version": 3
   },
   "file_extension": ".py",
   "mimetype": "text/x-python",
   "name": "python",
   "nbconvert_exporter": "python",
   "pygments_lexer": "ipython3",
   "version": "3.11.1"
  },
  "orig_nbformat": 4
 },
 "nbformat": 4,
 "nbformat_minor": 2
}
