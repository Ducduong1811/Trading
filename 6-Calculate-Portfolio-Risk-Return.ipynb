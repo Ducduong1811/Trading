{
 "cells": [
  {
   "cell_type": "code",
   "execution_count": 1,
   "metadata": {},
   "outputs": [],
   "source": [
    "import datetime\n",
    "import math\n",
    "\n",
    "import numpy as np\n",
    "import pandas_datareader.data as web\n",
    "import yfinance as yfin\n",
    "\n",
    "yfin.pdr_override()"
   ]
  },
  {
   "cell_type": "code",
   "execution_count": 2,
   "metadata": {},
   "outputs": [
    {
     "name": "stdout",
     "output_type": "stream",
     "text": [
      "[*********************100%***********************]  1 of 1 completed\n",
      "With an initial investment of $10388.75,     \n",
      "the cash return of this investment would be     \n",
      "($65.349 - $103.887) * 100 = $-3853.821\n"
     ]
    }
   ],
   "source": [
    "# Define all initial variables\n",
    "# start = datetime.date.today()-datetime.timedelta(365*10)\n",
    "# end = datetime.date.today()\n",
    "end = datetime.date(2022, 12, 31)\n",
    "start = end - datetime.timedelta(365 * 10)\n",
    "\n",
    "prices = web.DataReader([\"GE\"], start, end)[\"Adj Close\"]\n",
    "initialPrice = prices[0]\n",
    "finalPrice = prices[-1]\n",
    "cashReturn = (finalPrice - initialPrice) * 100\n",
    "\n",
    "print(\n",
    "    \"With an initial investment of $%.2f, \\\n",
    "    \\nthe cash return of this investment would be \\\n",
    "    \\n($%.3f - $%.3f) * 100 = $%.3f\"\n",
    "    % (initialPrice * 100, finalPrice, initialPrice, cashReturn)\n",
    ")"
   ]
  },
  {
   "cell_type": "code",
   "execution_count": 3,
   "metadata": {},
   "outputs": [
    {
     "name": "stdout",
     "output_type": "stream",
     "text": [
      "[*********************100%***********************]  2 of 2 completed\n"
     ]
    }
   ],
   "source": [
    "# Define all initial variables\n",
    "# start = datetime.date.today()-datetime.timedelta(365*5)\n",
    "# end = datetime.date.today()\n",
    "start = datetime.date(2016, 11, 29)\n",
    "end = datetime.date(2021, 11, 28)\n",
    "\n",
    "prices = web.DataReader([\"META\", \"CMG\"], start, end)[\"Adj Close\"]\n",
    "initialMETA = prices.META[0]\n",
    "initialCMG = prices.CMG[0]\n",
    "finalMETA = prices.META[-1]\n",
    "finalCMG = prices.CMG[-1]\n",
    "METAWeight = initialMETA / (initialMETA + initialCMG)\n",
    "CMGWeight = initialCMG / (initialMETA + initialCMG)"
   ]
  },
  {
   "cell_type": "code",
   "execution_count": 4,
   "metadata": {},
   "outputs": [
    {
     "name": "stdout",
     "output_type": "stream",
     "text": [
      "We have an initial investment in META of $12087.00 and in CMG $39511.00\n",
      "This would make the weights 0.23 and 0.77 for META and CMG respectively\n"
     ]
    }
   ],
   "source": [
    "print(\n",
    "    \"We have an initial investment in META of $%.2f and in CMG $%.2f\"\n",
    "    % (initialMETA * 100, initialCMG * 100)\n",
    ")\n",
    "\n",
    "print(\n",
    "    \"This would make the weights %.2f and %.2f for META and CMG respectively\"\n",
    "    % (METAWeight, CMGWeight)\n",
    ")"
   ]
  },
  {
   "cell_type": "code",
   "execution_count": 6,
   "metadata": {},
   "outputs": [
    {
     "name": "stdout",
     "output_type": "stream",
     "text": [
      "This return over this period for Facebook is 175.60% and 326.94% for Chipotle\n",
      "Multiplying these individual returns by their weights gives 41.14 (META) and 250.35 (CMG)\n"
     ]
    }
   ],
   "source": [
    "returnMETA = 100 * (finalMETA - initialMETA) / initialMETA\n",
    "returnCMG = 100 * (finalCMG - initialCMG) / initialCMG\n",
    "\n",
    "print(\n",
    "    \"This return over this period for Facebook is %.2f%% and %.2f%% for Chipotle\"\n",
    "    % (returnMETA, returnCMG)\n",
    ")\n",
    "\n",
    "print(\n",
    "    \"Multiplying these individual returns by their weights gives %.2f (META) and %.2f (CMG)\"\n",
    "    % (returnMETA * METAWeight, returnCMG * CMGWeight)\n",
    ")"
   ]
  },
  {
   "cell_type": "code",
   "execution_count": 7,
   "metadata": {},
   "outputs": [
    {
     "data": {
      "text/plain": [
       "291.4880512024385"
      ]
     },
     "execution_count": 7,
     "metadata": {},
     "output_type": "execute_result"
    }
   ],
   "source": [
    "returnMETA * METAWeight + returnCMG * CMGWeight"
   ]
  },
  {
   "attachments": {},
   "cell_type": "markdown",
   "metadata": {},
   "source": [
    "## 2. Calculating Portfolio Variance"
   ]
  },
  {
   "cell_type": "code",
   "execution_count": 8,
   "metadata": {},
   "outputs": [],
   "source": [
    "weights = np.array([0.23, 0.77])\n",
    "returns = prices.pct_change()\n",
    "covariance = 252 * returns.cov()"
   ]
  },
  {
   "cell_type": "code",
   "execution_count": 9,
   "metadata": {},
   "outputs": [
    {
     "name": "stdout",
     "output_type": "stream",
     "text": [
      "8.8018%\n"
     ]
    }
   ],
   "source": [
    "variance = np.dot(weights.T, np.dot(covariance, weights))\n",
    "\n",
    "# Print the result\n",
    "print(str(np.round(variance, 6) * 100) + \"%\")"
   ]
  },
  {
   "attachments": {},
   "cell_type": "markdown",
   "metadata": {},
   "source": [
    "We determine that the annual variance of our portfolio is 8.80%"
   ]
  },
  {
   "cell_type": "code",
   "execution_count": 10,
   "metadata": {},
   "outputs": [
    {
     "data": {
      "text/plain": [
       "CMG     0.136873\n",
       "META    0.108623\n",
       "dtype: float64"
      ]
     },
     "execution_count": 10,
     "metadata": {},
     "output_type": "execute_result"
    }
   ],
   "source": [
    "returns.var() * 252"
   ]
  },
  {
   "attachments": {},
   "cell_type": "markdown",
   "metadata": {},
   "source": [
    "We can see in above that both stocks' variance is higher than that of our portfolio, and even though CMG has a 77% weighting and a 13.7% variance, our portfolio's variance is more than 5 percentage points lower. This is because, if assets are not perfectly correlated, there will be some diversification benefit to risk by investing in multiple securities."
   ]
  },
  {
   "attachments": {},
   "cell_type": "markdown",
   "metadata": {},
   "source": [
    "### Calculating Standard Deviation of the Portfolio"
   ]
  },
  {
   "cell_type": "code",
   "execution_count": 11,
   "metadata": {},
   "outputs": [
    {
     "data": {
      "text/plain": [
       "29.67"
      ]
     },
     "execution_count": 11,
     "metadata": {},
     "output_type": "execute_result"
    }
   ],
   "source": [
    "np.round(math.sqrt(variance) * 100, 2)"
   ]
  },
  {
   "attachments": {},
   "cell_type": "markdown",
   "metadata": {},
   "source": [
    "## Performing Similar Analysis on Cryptocurrencies"
   ]
  },
  {
   "cell_type": "code",
   "execution_count": 12,
   "metadata": {},
   "outputs": [
    {
     "name": "stdout",
     "output_type": "stream",
     "text": [
      "[*********************100%***********************]  2 of 2 completed\n"
     ]
    }
   ],
   "source": [
    "# Define all initial variables\n",
    "# start = datetime.date.today()-datetime.timedelta(365*5)\n",
    "# end = datetime.date.today()\n",
    "start = datetime.date(2017, 11, 29)\n",
    "end = datetime.date(2022, 11, 28)\n",
    "\n",
    "prices = web.DataReader([\"BTC-USD\", \"ETH-USD\"], start, end)[\"Adj Close\"]\n",
    "prices = prices.rename(columns={\"BTC-USD\": \"Bitcoin\", \"ETH-USD\": \"Ethereum\"})\n",
    "\n",
    "initialBTC = 5 * prices.Bitcoin[0]\n",
    "initialETH = 100 * prices.Ethereum[0]\n",
    "finalBTC = 5 * prices.Bitcoin[-1]\n",
    "finalETH = 100 * prices.Ethereum[-1]\n",
    "BTCWeight = initialBTC / (initialBTC + initialETH)\n",
    "ETHWeight = initialETH / (initialBTC + initialETH)"
   ]
  },
  {
   "cell_type": "code",
   "execution_count": 13,
   "metadata": {},
   "outputs": [
    {
     "name": "stdout",
     "output_type": "stream",
     "text": [
      "This would make the weights 0.54 and 0.46 for Bitcoin and Ethereum respectively\n"
     ]
    }
   ],
   "source": [
    "print(\n",
    "    \"This would make the weights %.2f and %.2f for Bitcoin and Ethereum respectively\"\n",
    "    % (BTCWeight, ETHWeight)\n",
    ")"
   ]
  },
  {
   "cell_type": "code",
   "execution_count": 14,
   "metadata": {},
   "outputs": [],
   "source": [
    "returnBTC = 100 * (finalBTC - initialBTC) / initialBTC\n",
    "returnETH = 100 * (finalETH - initialETH) / initialETH"
   ]
  },
  {
   "cell_type": "code",
   "execution_count": 15,
   "metadata": {},
   "outputs": [
    {
     "data": {
      "text/plain": [
       "66.29866"
      ]
     },
     "execution_count": 15,
     "metadata": {},
     "output_type": "execute_result"
    }
   ],
   "source": [
    "np.round(returnBTC, 5)"
   ]
  },
  {
   "cell_type": "code",
   "execution_count": 16,
   "metadata": {},
   "outputs": [
    {
     "data": {
      "text/plain": [
       "179.54681"
      ]
     },
     "execution_count": 16,
     "metadata": {},
     "output_type": "execute_result"
    }
   ],
   "source": [
    "np.round(returnETH, 5)"
   ]
  },
  {
   "cell_type": "code",
   "execution_count": 17,
   "metadata": {},
   "outputs": [
    {
     "data": {
      "text/plain": [
       "118.81345"
      ]
     },
     "execution_count": 17,
     "metadata": {},
     "output_type": "execute_result"
    }
   ],
   "source": [
    "np.round(returnBTC * BTCWeight + returnETH * ETHWeight, 5)"
   ]
  },
  {
   "attachments": {},
   "cell_type": "markdown",
   "metadata": {},
   "source": [
    "## Calculating Variance for Cryptos"
   ]
  },
  {
   "cell_type": "code",
   "execution_count": 18,
   "metadata": {},
   "outputs": [
    {
     "name": "stdout",
     "output_type": "stream",
     "text": [
      "65.999%\n"
     ]
    }
   ],
   "source": [
    "weights = np.array([0.54, 0.46])\n",
    "returns = prices.pct_change()\n",
    "covariance = 365 * returns.cov()\n",
    "variance = np.dot(weights.T, np.dot(covariance, weights))\n",
    "print(str(np.round(variance, 5) * 100) + \"%\")"
   ]
  },
  {
   "cell_type": "code",
   "execution_count": 19,
   "metadata": {},
   "outputs": [
    {
     "data": {
      "text/plain": [
       "81.24"
      ]
     },
     "execution_count": 19,
     "metadata": {},
     "output_type": "execute_result"
    }
   ],
   "source": [
    "np.round(math.sqrt(variance) * 100, 2)"
   ]
  },
  {
   "cell_type": "code",
   "execution_count": null,
   "metadata": {},
   "outputs": [],
   "source": []
  }
 ],
 "metadata": {
  "kernelspec": {
   "display_name": "Python 3",
   "language": "python",
   "name": "python3"
  },
  "language_info": {
   "codemirror_mode": {
    "name": "ipython",
    "version": 3
   },
   "file_extension": ".py",
   "mimetype": "text/x-python",
   "name": "python",
   "nbconvert_exporter": "python",
   "pygments_lexer": "ipython3",
   "version": "3.11.1"
  },
  "orig_nbformat": 4
 },
 "nbformat": 4,
 "nbformat_minor": 2
}
